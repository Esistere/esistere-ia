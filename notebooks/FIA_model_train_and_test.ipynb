{
  "cells": [
    {
      "cell_type": "markdown",
      "metadata": {
        "id": "a85LyW-X75qf"
      },
      "source": [
        "## Analisi dei dati"
      ]
    },
    {
      "cell_type": "code",
      "execution_count": null,
      "metadata": {
        "id": "dmp8EyEyStxn"
      },
      "outputs": [],
      "source": [
        "import torch.nn as nn\n",
        "import torch\n",
        "import os\n",
        "import shutil\n",
        "from torchvision import datasets, transforms, models\n",
        "from torchvision.datasets import ImageFolder\n",
        "from torch.utils.data import DataLoader"
      ]
    },
    {
      "cell_type": "code",
      "execution_count": null,
      "metadata": {
        "colab": {
          "base_uri": "https://localhost:8080/"
        },
        "id": "ykY4n99itA3h",
        "outputId": "b05e0cf3-1ebe-4fc7-d819-9c6579732755"
      },
      "outputs": [
        {
          "name": "stdout",
          "output_type": "stream",
          "text": [
            "Mounted at /content/drive\n"
          ]
        }
      ],
      "source": [
        "from google.colab import drive\n",
        "\n",
        "# Il dataset è presente su Google Drive come file zip\n",
        "drive.mount('/content/drive')"
      ]
    },
    {
      "cell_type": "code",
      "execution_count": null,
      "metadata": {
        "id": "yYtW1STQtifj"
      },
      "outputs": [],
      "source": [
        "# Estrazione del contenuto del dataset\n",
        "!unzip \"/content/drive/MyDrive/Alzheimer_s_Dataset.zip\" -d \"/content/Alzheimer_s_Dataset\""
      ]
    },
    {
      "cell_type": "code",
      "execution_count": null,
      "metadata": {
        "id": "mcG_sOzFa0dj"
      },
      "outputs": [],
      "source": [
        "# Percorso del dataset decompresso\n",
        "data = 'Alzheimer_s_Dataset'\n",
        "data_dir_train = 'Alzheimer_s_Dataset/train'\n",
        "data_dir_test = 'Alzheimer_s_Dataset/test'"
      ]
    },
    {
      "cell_type": "code",
      "execution_count": null,
      "metadata": {
        "id": "yMHGVbPes-se"
      },
      "outputs": [],
      "source": [
        "import os\n",
        "import shutil\n",
        "\n",
        "def merge_categories(parent_dir):\n",
        "    # Unisci le categorie in 'Demented'\n",
        "    for category in ['MildDemented', 'ModerateDemented', 'VeryMildDemented']:\n",
        "        src_dir = os.path.join(parent_dir, category)\n",
        "        dest_dir = os.path.join(parent_dir, 'Demented')\n",
        "        if not os.path.exists(dest_dir):\n",
        "            os.makedirs(dest_dir)\n",
        "        for file_name in os.listdir(src_dir):\n",
        "            src_file_path = os.path.join(src_dir, file_name)\n",
        "            new_file_name = f\"{category}_{file_name}\"\n",
        "            dest_file_path = os.path.join(dest_dir, new_file_name)\n",
        "            shutil.move(src_file_path, dest_file_path)\n",
        "\n",
        "def remove_empty_folders(parent_dir):\n",
        "    # Rimuovi le cartelle vuote\n",
        "    for category in ['MildDemented', 'ModerateDemented', 'VeryMildDemented']:\n",
        "        dir_path = os.path.join(parent_dir, category)\n",
        "        if os.path.exists(dir_path) and len(os.listdir(dir_path)) == 0:\n",
        "            os.rmdir(dir_path)\n",
        "\n",
        "# Esegui le operazioni sulle cartelle di training e test\n",
        "for directory in [data_dir_train, data_dir_test]:\n",
        "    merge_categories(directory)\n",
        "    remove_empty_folders(directory)"
      ]
    },
    {
      "cell_type": "markdown",
      "metadata": {
        "id": "XBvIkk6M8APS"
      },
      "source": [
        "## Data Augmentation"
      ]
    },
    {
      "cell_type": "code",
      "execution_count": null,
      "metadata": {
        "id": "aGNog8jns-sf"
      },
      "outputs": [],
      "source": [
        "import random\n",
        "import cv2\n",
        "\n",
        "# Funzione di augmentation che esegue flip casuali e rotazioni\n",
        "def augment_image(input_image_path, output_image_path):\n",
        "    image = cv2.imread(input_image_path)\n",
        "\n",
        "    # Flip casuale\n",
        "    flip_hor = random.choice([True, False])\n",
        "    if flip_hor:\n",
        "        image = cv2.flip(image, 1)  # Flip orizzontale\n",
        "\n",
        "    # Rotazione casuale\n",
        "    angle = random.randint(-10, 10)\n",
        "    rows, cols, _ = image.shape\n",
        "    M = cv2.getRotationMatrix2D((cols / 2, rows / 2), angle, 1)\n",
        "    image = cv2.warpAffine(image, M, (cols, rows))\n",
        "\n",
        "    # Salva l'immagine augmentata\n",
        "    cv2.imwrite(output_image_path, image)\n",
        "\n",
        "# Funzione per bilanciare le classi nel dataset di training\n",
        "def balance_classes(data_type_dir, class_name, target_count=3000):\n",
        "    class_dir = os.path.join(data_type_dir, class_name)\n",
        "    current_count = len(os.listdir(class_dir))\n",
        "    augmentations_needed = target_count - current_count\n",
        "\n",
        "    if augmentations_needed > 0:\n",
        "        for i in range(augmentations_needed):\n",
        "            random_image_name = random.choice(os.listdir(class_dir))\n",
        "            random_image_path = os.path.join(class_dir, random_image_name)\n",
        "            augmented_image_name = f\"aug_{i}_{random_image_name}\"\n",
        "            augmented_image_path = os.path.join(class_dir, augmented_image_name)\n",
        "            augment_image(random_image_path, augmented_image_path)\n",
        "    else:\n",
        "        print(f\"La classe {class_name} ha già {current_count} immagini, non sono necessarie ulteriori augmentations.\")"
      ]
    },
    {
      "cell_type": "code",
      "execution_count": null,
      "metadata": {
        "id": "I2eVtrkMs-sf"
      },
      "outputs": [],
      "source": [
        "# Bilancia la classe 'Demented' nel dataset di training\n",
        "balance_classes(data_dir_train, 'Demented')\n",
        "\n",
        "# Bilancia la classe 'NonDemented' nel dataset di training (assumendo che esista già questa cartella)\n",
        "balance_classes(data_dir_train, 'NonDemented')"
      ]
    },
    {
      "cell_type": "markdown",
      "metadata": {
        "id": "6lMlC2KP8IPD"
      },
      "source": [
        "## Pulizia della cache"
      ]
    },
    {
      "cell_type": "code",
      "execution_count": null,
      "metadata": {
        "id": "tYI5Ta349l9j"
      },
      "outputs": [],
      "source": [
        "# Percorso della cartella .ipynb_checkpoints\n",
        "checkpoints_path = os.path.join(data_dir_train, '.ipynb_checkpoints')\n",
        "\n",
        "# Controlla se la cartella .ipynb_checkpoints esiste e, in tal caso, la elimina\n",
        "if os.path.exists(checkpoints_path):\n",
        "    shutil.rmtree(checkpoints_path)\n",
        "    print(f\"Cartella {checkpoints_path} rimossa.\")"
      ]
    },
    {
      "cell_type": "markdown",
      "metadata": {
        "id": "QPjp-aEj8OAK"
      },
      "source": [
        "## Trasformazioni"
      ]
    },
    {
      "cell_type": "code",
      "execution_count": null,
      "metadata": {
        "id": "cXVPfqplb3CU"
      },
      "outputs": [],
      "source": [
        "# Trasformazioni standard per il set di addestramento\n",
        "standard_transforms = transforms.Compose([\n",
        "    transforms.Resize((227, 227)),  # Ridimensionamento per AlexNet\n",
        "    transforms.Grayscale(num_output_channels=1),  # Conversione in scala di grigi\n",
        "    transforms.ToTensor(),\n",
        "    transforms.Normalize(mean=[0.485], std=[0.229])  # Normalizzazione per un singolo canale\n",
        "])"
      ]
    },
    {
      "cell_type": "markdown",
      "source": [
        "## Modifiche apportate al modello"
      ],
      "metadata": {
        "id": "ktdtpJY58j2y"
      }
    },
    {
      "cell_type": "code",
      "execution_count": null,
      "metadata": {
        "colab": {
          "base_uri": "https://localhost:8080/"
        },
        "id": "qJDRHitSLzqJ",
        "outputId": "cc298a96-dd8b-4b16-abda-44002eed360f"
      },
      "outputs": [
        {
          "output_type": "stream",
          "name": "stderr",
          "text": [
            "Downloading: \"https://download.pytorch.org/models/alexnet-owt-7be5be79.pth\" to /root/.cache/torch/hub/checkpoints/alexnet-owt-7be5be79.pth\n",
            "100%|██████████| 233M/233M [00:04<00:00, 50.3MB/s]\n"
          ]
        },
        {
          "output_type": "stream",
          "name": "stdout",
          "text": [
            "CUDA non è disponibile.\n"
          ]
        },
        {
          "output_type": "execute_result",
          "data": {
            "text/plain": [
              "AlexNet(\n",
              "  (features): Sequential(\n",
              "    (0): Conv2d(1, 64, kernel_size=(11, 11), stride=(4, 4), padding=(2, 2))\n",
              "    (1): ReLU(inplace=True)\n",
              "    (2): MaxPool2d(kernel_size=3, stride=2, padding=0, dilation=1, ceil_mode=False)\n",
              "    (3): Conv2d(64, 192, kernel_size=(5, 5), stride=(1, 1), padding=(2, 2))\n",
              "    (4): ReLU(inplace=True)\n",
              "    (5): MaxPool2d(kernel_size=3, stride=2, padding=0, dilation=1, ceil_mode=False)\n",
              "    (6): Conv2d(192, 384, kernel_size=(3, 3), stride=(1, 1), padding=(1, 1))\n",
              "    (7): ReLU(inplace=True)\n",
              "    (8): Conv2d(384, 256, kernel_size=(3, 3), stride=(1, 1), padding=(1, 1))\n",
              "    (9): ReLU(inplace=True)\n",
              "    (10): Conv2d(256, 256, kernel_size=(3, 3), stride=(1, 1), padding=(1, 1))\n",
              "    (11): ReLU(inplace=True)\n",
              "    (12): MaxPool2d(kernel_size=3, stride=2, padding=0, dilation=1, ceil_mode=False)\n",
              "  )\n",
              "  (avgpool): AdaptiveAvgPool2d(output_size=(6, 6))\n",
              "  (classifier): Sequential(\n",
              "    (0): Dropout(p=0.5, inplace=False)\n",
              "    (1): Linear(in_features=9216, out_features=4096, bias=True)\n",
              "    (2): ReLU(inplace=True)\n",
              "    (3): Dropout(p=0.5, inplace=False)\n",
              "    (4): Linear(in_features=4096, out_features=4096, bias=True)\n",
              "    (5): ReLU(inplace=True)\n",
              "    (6): Linear(in_features=4096, out_features=1, bias=True)\n",
              "    (7): Sigmoid()\n",
              "  )\n",
              ")"
            ]
          },
          "metadata": {},
          "execution_count": 10
        }
      ],
      "source": [
        "from torchvision.models import alexnet, AlexNet_Weights\n",
        "\n",
        "# Carica AlexNet pre-addestrata\n",
        "weights = AlexNet_Weights.DEFAULT\n",
        "alexnet = alexnet(weights=weights)\n",
        "\n",
        "# Modifica del primo strato convoluzionale\n",
        "alexnet.features[0] = nn.Conv2d(1, 64, kernel_size=11, stride=4, padding=2)\n",
        "\n",
        "# Utilizzo di euristica per l'inizializzazione dei pesi\n",
        "nn.init.kaiming_normal_(alexnet.features[0].weight, mode='fan_in', nonlinearity='relu')\n",
        "if alexnet.features[0].bias is not None:\n",
        "    nn.init.constant_(alexnet.features[0].bias, 0)\n",
        "\n",
        "# Modifica dell'ultimo strato fully-connected per la classificazione binaria\n",
        "alexnet.classifier[6] = nn.Linear(4096, 1)\n",
        "\n",
        "# Aggiunta della funzione di attivazione sigmoide all'ultimo strato\n",
        "alexnet.classifier.add_module(\"7\", nn.Sigmoid())\n",
        "\n",
        "# Congelamento dei pesi dei primi strati\n",
        "for param in alexnet.features.parameters():\n",
        "    param.requires_grad = False\n",
        "\n",
        "# Configurazione CUDA\n",
        "if torch.cuda.is_available():\n",
        "    print(\"CUDA è disponibile. I modelli possono essere eseguiti sulla GPU.\")\n",
        "else:\n",
        "    print(\"CUDA non è disponibile.\")\n",
        "\n",
        "# Impostazione del dispositivo (GPU o CPU)\n",
        "device = torch.device(\"cuda\" if torch.cuda.is_available() else \"cpu\")\n",
        "alexnet.to(device)"
      ]
    },
    {
      "cell_type": "markdown",
      "source": [
        "## Caricamento immagini e definizione di funzioni di test e train"
      ],
      "metadata": {
        "id": "u58GN7X68pWe"
      }
    },
    {
      "cell_type": "code",
      "execution_count": null,
      "metadata": {
        "colab": {
          "base_uri": "https://localhost:8080/"
        },
        "id": "xoj8H_MljFHB",
        "outputId": "f8623339-8129-46db-d70b-7c33381787dd"
      },
      "outputs": [
        {
          "output_type": "stream",
          "name": "stdout",
          "text": [
            "Dataset ImageFolder\n",
            "    Number of datapoints: 6000\n",
            "    Root location: Alzheimer_s_Dataset/train\n",
            "    StandardTransform\n",
            "Transform: Compose(\n",
            "               Resize(size=(227, 227), interpolation=bilinear, max_size=None, antialias=warn)\n",
            "               Grayscale(num_output_channels=1)\n",
            "               ToTensor()\n",
            "               Normalize(mean=[0.485], std=[0.229])\n",
            "           )\n",
            "32\n"
          ]
        }
      ],
      "source": [
        "train_dataset = datasets.ImageFolder(data_dir_train, transform=standard_transforms)\n",
        "\n",
        "train_loader = DataLoader(train_dataset, batch_size=32, shuffle=True)\n",
        "\n",
        "print(train_dataset)\n",
        "print(train_loader.batch_size)"
      ]
    },
    {
      "cell_type": "code",
      "source": [
        "import matplotlib.pyplot as plt\n",
        "import numpy as np\n",
        "import torchvision\n",
        "\n",
        "# Funzione per mostrare un'immagine\n",
        "def imshow(img):\n",
        "    img = img / 2 + 0.5  # Normalizza i valori per riportarli nel range [0, 1]\n",
        "    npimg = img.numpy()\n",
        "    npimg = np.clip(npimg, 0, 1)  # Assicurati che i valori siano nel range [0, 1]\n",
        "    plt.imshow(np.transpose(npimg, (1, 2, 0)), cmap='gray')\n",
        "    plt.show()\n",
        "\n",
        "# Stampa alcune informazioni di base sul dataset\n",
        "print(f\"Numero totale di immagini nel dataset: {len(train_dataset)}\")\n",
        "print(f\"Classi nel dataset: {train_dataset.classes}\")\n",
        "\n",
        "# Ottieni alcune immagini di esempio dal DataLoader\n",
        "dataiter = iter(train_loader)\n",
        "images, labels = next(dataiter)\n",
        "\n",
        "# Mostra le immagini\n",
        "imshow(torchvision.utils.make_grid(images[:24]))"
      ],
      "metadata": {
        "colab": {
          "base_uri": "https://localhost:8080/",
          "height": 287
        },
        "id": "lWuIotqZZL0E",
        "outputId": "a64cd341-7be4-4ab6-fe88-d6f5a11f9eda"
      },
      "execution_count": null,
      "outputs": [
        {
          "output_type": "stream",
          "name": "stdout",
          "text": [
            "Numero totale di immagini nel dataset: 6000\n",
            "Classi nel dataset: ['Demented', 'NonDemented']\n"
          ]
        },
        {
          "output_type": "display_data",
          "data": {
            "text/plain": [
              "<Figure size 640x480 with 1 Axes>"
            ],
            "image/png": "[encoded data removed]"
          },
          "metadata": {}
        }
      ]
    },
    {
      "cell_type": "code",
      "execution_count": null,
      "metadata": {
        "id": "WrvMP7JTRPUS"
      },
      "outputs": [],
      "source": [
        "from sklearn.metrics import precision_score, recall_score, accuracy_score\n",
        "import torch.optim as optim\n",
        "\n",
        "criterion = nn.BCELoss()\n",
        "optimizer = optim.Adam(alexnet.parameters(), lr=0.001)\n",
        "\n",
        "num_epochs = 30\n",
        "\n",
        "def train_model(model, train_loader, criterion, optimizer, num_epochs):\n",
        "    for epoch in range(num_epochs):\n",
        "        model.train()  # Imposta il modello in modalità addestramento\n",
        "\n",
        "        train_loss = 0.0\n",
        "        train_preds, train_labels = [], []\n",
        "\n",
        "        for inputs, labels in train_loader:\n",
        "            inputs, labels = inputs.to(device), labels.to(device)\n",
        "            optimizer.zero_grad()\n",
        "\n",
        "            # Forward pass\n",
        "            outputs = model(inputs)\n",
        "\n",
        "            # Controlla e regola le dimensioni dell'output\n",
        "            if outputs.dim() > 1 and outputs.size(1) == 1:\n",
        "                outputs = outputs.squeeze(1)\n",
        "\n",
        "            # Controlla e regola le dimensioni delle labels\n",
        "            if labels.dim() > 1:\n",
        "                labels = labels.squeeze()\n",
        "\n",
        "            # Converte in float\n",
        "            labels = labels.float()\n",
        "\n",
        "            # Calcola la loss\n",
        "            loss = criterion(outputs, labels)\n",
        "            train_loss += loss.item() * inputs.size(0)\n",
        "\n",
        "            loss.backward()\n",
        "            optimizer.step()\n",
        "\n",
        "            train_preds.extend(outputs.detach().cpu().numpy())\n",
        "            train_labels.extend(labels.detach().cpu().numpy())\n",
        "\n",
        "        train_loss /= len(train_loader.dataset)\n",
        "\n",
        "        train_accuracy = accuracy_score(train_labels, [p > 0.5 for p in train_preds])\n",
        "        train_precision = precision_score(train_labels, [p > 0.5 for p in train_preds])\n",
        "        train_recall = recall_score(train_labels, [p > 0.5 for p in train_preds])\n",
        "\n",
        "        print(f\"Epoch {epoch+1}/{num_epochs}\")\n",
        "        print(f\"Loss: {train_loss:.4f} Accuracy: {train_accuracy:.4f} Precision: {train_precision:.4f} Recall: {train_recall:.4f}\")\n",
        "\n",
        "    return model"
      ]
    },
    {
      "cell_type": "code",
      "execution_count": null,
      "metadata": {
        "colab": {
          "base_uri": "https://localhost:8080/"
        },
        "id": "-Xh7PzHb-JJb",
        "outputId": "1b44c8a3-5938-422d-9d42-573e572cf951"
      },
      "outputs": [
        {
          "output_type": "stream",
          "name": "stdout",
          "text": [
            "Dataset ImageFolder\n",
            "    Number of datapoints: 1279\n",
            "    Root location: Alzheimer_s_Dataset/test\n",
            "    StandardTransform\n",
            "Transform: Compose(\n",
            "               Resize(size=(227, 227), interpolation=bilinear, max_size=None, antialias=warn)\n",
            "               Grayscale(num_output_channels=1)\n",
            "               ToTensor()\n",
            "               Normalize(mean=[0.485], std=[0.229])\n",
            "           )\n",
            "32\n"
          ]
        }
      ],
      "source": [
        "test_dataset = datasets.ImageFolder(data_dir_test, transform=standard_transforms)\n",
        "\n",
        "test_loader = DataLoader(test_dataset, batch_size=32, shuffle=False)\n",
        "\n",
        "print(test_dataset)\n",
        "print(test_loader.batch_size)"
      ]
    },
    {
      "cell_type": "code",
      "execution_count": null,
      "metadata": {
        "id": "RTJX6U7Cs-sj"
      },
      "outputs": [],
      "source": [
        "from sklearn.metrics import precision_score, recall_score, accuracy_score\n",
        "import torch\n",
        "\n",
        "def test_model(model, test_loader, criterion, device):\n",
        "    model.eval()  # Imposta il modello in modalità di valutazione\n",
        "\n",
        "    test_loss = 0.0\n",
        "    all_labels = []\n",
        "    all_predictions = []\n",
        "\n",
        "    with torch.no_grad():\n",
        "        for inputs, labels in test_loader:\n",
        "            inputs, labels = inputs.to(device), labels.to(device)\n",
        "\n",
        "            # Forward pass\n",
        "            outputs = model(inputs)\n",
        "\n",
        "            # Controlla e regola le dimensioni dell'output\n",
        "            if outputs.dim() > 1 and outputs.size(1) == 1:\n",
        "                outputs = outputs.squeeze(1)\n",
        "\n",
        "            # Converte in float\n",
        "            labels = labels.float()\n",
        "\n",
        "            # Calcola la loss\n",
        "            loss = criterion(outputs, labels)\n",
        "            test_loss += loss.item() * inputs.size(0)\n",
        "\n",
        "            # Converti gli output in predizioni binarie\n",
        "            predicted = (outputs > 0.5).float()\n",
        "            all_labels.extend(labels.cpu().numpy())\n",
        "            all_predictions.extend(predicted.cpu().numpy())\n",
        "\n",
        "    test_loss /= len(test_loader.dataset)\n",
        "\n",
        "    test_accuracy = accuracy_score(all_labels, all_predictions)\n",
        "    test_precision = precision_score(all_labels, all_predictions)\n",
        "    test_recall = recall_score(all_labels, all_predictions)\n",
        "\n",
        "    print(f\"Test Loss: {test_loss:.4f}\")\n",
        "    print(f\"Test Accuracy: {test_accuracy:.4f}\")\n",
        "    print(f\"Test Precision: {test_precision:.4f}\")\n",
        "    print(f\"Test Recall: {test_recall:.4f}\")"
      ]
    },
    {
      "cell_type": "code",
      "source": [
        "from PIL import Image\n",
        "\n",
        "# Funzione che mostra la feature map di un'immagine\n",
        "def visualize_feature_maps(model, image_path, device, N=6):\n",
        "    model.eval()  # Imposta il modello in modalità di valutazione\n",
        "    image = Image.open(image_path).convert(\"L\")  # Converti in scala di grigi\n",
        "    transform = transforms.Compose([\n",
        "        transforms.Resize((227, 227)),\n",
        "        transforms.ToTensor(),\n",
        "        transforms.Normalize(mean=[0.485], std=[0.229])\n",
        "    ])\n",
        "    image = transform(image).unsqueeze(0).to(device)\n",
        "\n",
        "    with torch.no_grad():\n",
        "        feature_maps = model.features[:1](image)\n",
        "\n",
        "    fig, axs = plt.subplots(1, N, figsize=(20, 3))\n",
        "    for i in range(N):\n",
        "        axs[i].imshow(feature_maps[0, i].cpu().detach().numpy(), cmap='gray')\n",
        "        axs[i].axis('off')\n",
        "    plt.show()\n",
        "\n",
        "# Chiamata della funzione\n",
        "visualize_feature_maps(alexnet, 'Alzheimer_s_Dataset/train/Demented/MildDemented_mildDem2.jpg', device)"
      ],
      "metadata": {
        "colab": {
          "base_uri": "https://localhost:8080/",
          "height": 190
        },
        "id": "Rhn_5YwOaBzO",
        "outputId": "0dcce797-da20-44b3-ce43-5c18c370e615"
      },
      "execution_count": null,
      "outputs": [
        {
          "output_type": "display_data",
          "data": {
            "text/plain": [
              "<Figure size 2000x300 with 6 Axes>"
            ],
            "image/png": "[encoded data removed]"
          },
          "metadata": {}
        }
      ]
    },
    {
      "cell_type": "markdown",
      "source": [
        "## Funzione per effettuare il salvataggio dei modelli"
      ],
      "metadata": {
        "id": "DiTKVgLJ-7Cc"
      }
    },
    {
      "cell_type": "code",
      "source": [
        "def save_model(model_state_dict, file_name,):\n",
        "    # Definizione del dizionario da salvare\n",
        "    model_info = {\n",
        "        'architettura': 'AlexNet Modificato',\n",
        "        'model_state_dict': model_state_dict,\n",
        "        'optimizer_state_dict': optimizer.state_dict(),\n",
        "        'criterion_state_dict': criterion.state_dict(),\n",
        "        'epoch': num_epochs,\n",
        "        'preprocessing': {\n",
        "            'resize': (227, 227),\n",
        "            'mean': [0.485],\n",
        "            'std': [0.229],\n",
        "            'grayscale': True\n",
        "        },\n",
        "    }\n",
        "\n",
        "    # Salvataggio del dizionario in un file\n",
        "    torch.save(model_info, file_name)\n",
        "    print(f\"Modello salvato come {file_name}\")\n"
      ],
      "metadata": {
        "id": "Lqtb2aFs_BHT"
      },
      "execution_count": null,
      "outputs": []
    },
    {
      "cell_type": "markdown",
      "source": [
        "## Training e test di modelli"
      ],
      "metadata": {
        "id": "v8jOD7TQ7gjC"
      }
    },
    {
      "cell_type": "code",
      "execution_count": null,
      "metadata": {
        "colab": {
          "base_uri": "https://localhost:8080/"
        },
        "id": "0OmZSp-tRv-T",
        "outputId": "3e79237e-9d8d-4079-d040-bd0d585022a5",
        "collapsed": true
      },
      "outputs": [
        {
          "name": "stdout",
          "output_type": "stream",
          "text": [
            "Epoch 1/30\n",
            "Loss: 0.6770 Accuracy: 0.6344 Precision: 0.6431 Recall: 0.6039\n",
            "Epoch 2/30\n",
            "Loss: 0.5927 Accuracy: 0.6854 Precision: 0.7077 Recall: 0.6316\n",
            "Epoch 3/30\n",
            "Loss: 0.5707 Accuracy: 0.7063 Precision: 0.7447 Recall: 0.6277\n",
            "Epoch 4/30\n",
            "Loss: 0.5620 Accuracy: 0.7012 Precision: 0.7251 Recall: 0.6480\n",
            "Epoch 5/30\n",
            "Loss: 0.5405 Accuracy: 0.7208 Precision: 0.7421 Recall: 0.6766\n",
            "Epoch 6/30\n",
            "Loss: 0.5550 Accuracy: 0.7110 Precision: 0.7213 Recall: 0.6875\n",
            "Epoch 7/30\n",
            "Loss: 0.5567 Accuracy: 0.7024 Precision: 0.7193 Recall: 0.6637\n",
            "Epoch 8/30\n",
            "Loss: 0.5605 Accuracy: 0.7122 Precision: 0.7341 Recall: 0.6652\n",
            "Epoch 9/30\n",
            "Loss: 0.5456 Accuracy: 0.7196 Precision: 0.7684 Recall: 0.6285\n",
            "Epoch 10/30\n",
            "Loss: 0.5683 Accuracy: 0.6924 Precision: 0.7693 Recall: 0.5496\n",
            "Epoch 11/30\n",
            "Loss: 0.5242 Accuracy: 0.7157 Precision: 0.7842 Recall: 0.5949\n",
            "Epoch 12/30\n",
            "Loss: 0.5281 Accuracy: 0.7245 Precision: 0.7829 Recall: 0.6211\n",
            "Epoch 13/30\n",
            "Loss: 0.5204 Accuracy: 0.7208 Precision: 0.7918 Recall: 0.5988\n",
            "Epoch 14/30\n",
            "Loss: 0.5219 Accuracy: 0.7278 Precision: 0.7939 Recall: 0.6152\n",
            "Epoch 15/30\n",
            "Loss: 0.5139 Accuracy: 0.7192 Precision: 0.8191 Recall: 0.5625\n",
            "Epoch 16/30\n",
            "Loss: 0.5191 Accuracy: 0.7231 Precision: 0.8057 Recall: 0.5879\n",
            "Epoch 17/30\n",
            "Loss: 0.5168 Accuracy: 0.7200 Precision: 0.8020 Recall: 0.5840\n",
            "Epoch 18/30\n",
            "Loss: 0.5172 Accuracy: 0.7211 Precision: 0.7945 Recall: 0.5965\n",
            "Epoch 19/30\n",
            "Loss: 0.5194 Accuracy: 0.7165 Precision: 0.8024 Recall: 0.5742\n",
            "Epoch 20/30\n",
            "Loss: 0.5089 Accuracy: 0.7249 Precision: 0.8089 Recall: 0.5887\n",
            "Epoch 21/30\n",
            "Loss: 0.5102 Accuracy: 0.7258 Precision: 0.8094 Recall: 0.5906\n",
            "Epoch 22/30\n",
            "Loss: 0.4962 Accuracy: 0.7354 Precision: 0.8206 Recall: 0.6023\n",
            "Epoch 23/30\n",
            "Loss: 0.4895 Accuracy: 0.7385 Precision: 0.8334 Recall: 0.5961\n",
            "Epoch 24/30\n",
            "Loss: 0.4807 Accuracy: 0.7395 Precision: 0.8357 Recall: 0.5961\n",
            "Epoch 25/30\n",
            "Loss: 0.4879 Accuracy: 0.7344 Precision: 0.8348 Recall: 0.5844\n",
            "Epoch 26/30\n",
            "Loss: 0.4867 Accuracy: 0.7331 Precision: 0.8380 Recall: 0.5777\n",
            "Epoch 27/30\n",
            "Loss: 0.4861 Accuracy: 0.7301 Precision: 0.8133 Recall: 0.5973\n",
            "Epoch 28/30\n",
            "Loss: 0.4721 Accuracy: 0.7452 Precision: 0.8287 Recall: 0.6180\n",
            "Epoch 29/30\n",
            "Loss: 0.4807 Accuracy: 0.7407 Precision: 0.8370 Recall: 0.5977\n",
            "Epoch 30/30\n",
            "Loss: 0.4666 Accuracy: 0.7442 Precision: 0.8286 Recall: 0.6156\n"
          ]
        }
      ],
      "source": [
        "# Train modello 7\n",
        "trained_model7 = train_model(alexnet, train_loader, criterion, optimizer, num_epochs)"
      ]
    },
    {
      "cell_type": "code",
      "execution_count": null,
      "metadata": {
        "id": "-qo6EZHVs-sj",
        "outputId": "b1381951-24cf-4fe5-bbb3-dc00d6ec815c"
      },
      "outputs": [
        {
          "name": "stdout",
          "output_type": "stream",
          "text": [
            "Test Loss: 0.6036\n",
            "Test Accuracy: 0.6693\n",
            "Test Precision: 0.6445\n",
            "Test Recall: 0.7562\n"
          ]
        }
      ],
      "source": [
        "# Test modello 7\n",
        "test_model(trained_model7, test_loader, criterion, device)"
      ]
    },
    {
      "cell_type": "code",
      "execution_count": null,
      "metadata": {
        "id": "loBqgXjQs-sk"
      },
      "outputs": [],
      "source": [
        "# Salvataggio modello 7\n",
        "torch.save(trained_model7.state_dict(), 'modello_fia.pth')"
      ]
    },
    {
      "cell_type": "code",
      "execution_count": null,
      "metadata": {
        "id": "La_zVEzWs-sk",
        "outputId": "807e67e2-9a29-44d6-d60b-9d502442e87f",
        "collapsed": true
      },
      "outputs": [
        {
          "name": "stdout",
          "output_type": "stream",
          "text": [
            "Epoch 1/30\n",
            "Loss: 0.6478 Accuracy: 0.6432 Precision: 0.6559 Recall: 0.6023\n",
            "Epoch 2/30\n",
            "Loss: 0.5909 Accuracy: 0.6901 Precision: 0.7181 Recall: 0.6258\n",
            "Epoch 3/30\n",
            "Loss: 0.5701 Accuracy: 0.7061 Precision: 0.7397 Recall: 0.6359\n",
            "Epoch 4/30\n",
            "Loss: 0.5507 Accuracy: 0.7178 Precision: 0.7448 Recall: 0.6625\n",
            "Epoch 5/30\n",
            "Loss: 0.5497 Accuracy: 0.7176 Precision: 0.7504 Recall: 0.6520\n",
            "Epoch 6/30\n",
            "Loss: 0.5391 Accuracy: 0.7239 Precision: 0.7451 Recall: 0.6805\n",
            "Epoch 7/30\n",
            "Loss: 0.5376 Accuracy: 0.7327 Precision: 0.7550 Recall: 0.6887\n",
            "Epoch 8/30\n",
            "Loss: 0.5244 Accuracy: 0.7338 Precision: 0.7557 Recall: 0.6910\n",
            "Epoch 9/30\n",
            "Loss: 0.5331 Accuracy: 0.7266 Precision: 0.7569 Recall: 0.6676\n",
            "Epoch 10/30\n",
            "Loss: 0.5305 Accuracy: 0.7270 Precision: 0.7485 Recall: 0.6836\n",
            "Epoch 11/30\n",
            "Loss: 0.5580 Accuracy: 0.7186 Precision: 0.7366 Recall: 0.6805\n",
            "Epoch 12/30\n",
            "Loss: 0.5389 Accuracy: 0.7229 Precision: 0.7514 Recall: 0.6660\n",
            "Epoch 13/30\n",
            "Loss: 0.5365 Accuracy: 0.7319 Precision: 0.7670 Recall: 0.6660\n",
            "Epoch 14/30\n",
            "Loss: 0.5465 Accuracy: 0.7204 Precision: 0.7696 Recall: 0.6289\n",
            "Epoch 15/30\n",
            "Loss: 0.5623 Accuracy: 0.7180 Precision: 0.7782 Recall: 0.6098\n",
            "Epoch 16/30\n",
            "Loss: 0.5307 Accuracy: 0.7307 Precision: 0.7589 Recall: 0.6762\n",
            "Epoch 17/30\n",
            "Loss: 0.5125 Accuracy: 0.7471 Precision: 0.7988 Recall: 0.6605\n",
            "Epoch 18/30\n",
            "Loss: 0.5064 Accuracy: 0.7512 Precision: 0.7944 Recall: 0.6777\n",
            "Epoch 19/30\n",
            "Loss: 0.4990 Accuracy: 0.7502 Precision: 0.7835 Recall: 0.6914\n",
            "Epoch 20/30\n",
            "Loss: 0.5068 Accuracy: 0.7522 Precision: 0.8058 Recall: 0.6645\n",
            "Epoch 21/30\n",
            "Loss: 0.5328 Accuracy: 0.7149 Precision: 0.8009 Recall: 0.5719\n",
            "Epoch 22/30\n",
            "Loss: 0.5079 Accuracy: 0.7301 Precision: 0.8339 Recall: 0.5746\n",
            "Epoch 23/30\n",
            "Loss: 0.5168 Accuracy: 0.7297 Precision: 0.8138 Recall: 0.5957\n",
            "Epoch 24/30\n",
            "Loss: 0.5150 Accuracy: 0.7383 Precision: 0.7961 Recall: 0.6406\n",
            "Epoch 25/30\n",
            "Loss: 0.4980 Accuracy: 0.7469 Precision: 0.8015 Recall: 0.6562\n",
            "Epoch 26/30\n",
            "Loss: 0.5067 Accuracy: 0.7418 Precision: 0.7999 Recall: 0.6449\n",
            "Epoch 27/30\n",
            "Loss: 0.5322 Accuracy: 0.7087 Precision: 0.8034 Recall: 0.5523\n",
            "Epoch 28/30\n",
            "Loss: 0.5251 Accuracy: 0.7198 Precision: 0.7895 Recall: 0.5992\n",
            "Epoch 29/30\n",
            "Loss: 0.5334 Accuracy: 0.7114 Precision: 0.7844 Recall: 0.5828\n",
            "Epoch 30/30\n",
            "Loss: 0.5368 Accuracy: 0.7001 Precision: 0.8241 Recall: 0.5086\n"
          ]
        }
      ],
      "source": [
        "# Train modello 8\n",
        "trained_model8 = train_model(alexnet, train_loader, criterion, optimizer, num_epochs)"
      ]
    },
    {
      "cell_type": "code",
      "execution_count": null,
      "metadata": {
        "id": "9HobKZF2s-sl",
        "outputId": "6e32923c-6268-4071-d74f-31b82528829d",
        "collapsed": true
      },
      "outputs": [
        {
          "name": "stdout",
          "output_type": "stream",
          "text": [
            "Epoch 1/30\n",
            "Loss: 0.5360 Accuracy: 0.6969 Precision: 0.8378 Recall: 0.4883\n",
            "Epoch 2/30\n",
            "Loss: 0.5294 Accuracy: 0.6983 Precision: 0.8368 Recall: 0.4926\n",
            "Epoch 3/30\n",
            "Loss: 0.5232 Accuracy: 0.7045 Precision: 0.8167 Recall: 0.5273\n",
            "Epoch 4/30\n",
            "Loss: 0.5488 Accuracy: 0.6954 Precision: 0.8439 Recall: 0.4793\n",
            "Epoch 5/30\n",
            "Loss: 0.5526 Accuracy: 0.6917 Precision: 0.8491 Recall: 0.4660\n",
            "Epoch 6/30\n",
            "Loss: 0.5400 Accuracy: 0.6967 Precision: 0.8372 Recall: 0.4883\n",
            "Epoch 7/30\n",
            "Loss: 0.5206 Accuracy: 0.7045 Precision: 0.8290 Recall: 0.5152\n",
            "Epoch 8/30\n",
            "Loss: 0.4957 Accuracy: 0.7200 Precision: 0.8501 Recall: 0.5340\n",
            "Epoch 9/30\n",
            "Loss: 0.5065 Accuracy: 0.7221 Precision: 0.8414 Recall: 0.5473\n",
            "Epoch 10/30\n",
            "Loss: 0.5132 Accuracy: 0.7120 Precision: 0.8436 Recall: 0.5203\n",
            "Epoch 11/30\n",
            "Loss: 0.5158 Accuracy: 0.7131 Precision: 0.8481 Recall: 0.5191\n",
            "Epoch 12/30\n",
            "Loss: 0.5076 Accuracy: 0.7122 Precision: 0.8360 Recall: 0.5277\n",
            "Epoch 13/30\n",
            "Loss: 0.5207 Accuracy: 0.7227 Precision: 0.8514 Recall: 0.5395\n",
            "Epoch 14/30\n",
            "Loss: 0.5194 Accuracy: 0.7206 Precision: 0.8292 Recall: 0.5555\n",
            "Epoch 15/30\n",
            "Loss: 0.5172 Accuracy: 0.7186 Precision: 0.8309 Recall: 0.5488\n",
            "Epoch 16/30\n",
            "Loss: 0.5186 Accuracy: 0.7211 Precision: 0.8357 Recall: 0.5504\n",
            "Epoch 17/30\n",
            "Loss: 0.5133 Accuracy: 0.7309 Precision: 0.8444 Recall: 0.5660\n",
            "Epoch 18/30\n",
            "Loss: 0.5205 Accuracy: 0.7200 Precision: 0.8396 Recall: 0.5437\n",
            "Epoch 19/30\n",
            "Loss: 0.5124 Accuracy: 0.7225 Precision: 0.8441 Recall: 0.5457\n",
            "Epoch 20/30\n",
            "Loss: 0.5132 Accuracy: 0.7264 Precision: 0.8584 Recall: 0.5422\n",
            "Epoch 21/30\n",
            "Loss: 0.5125 Accuracy: 0.7237 Precision: 0.8438 Recall: 0.5488\n",
            "Epoch 22/30\n",
            "Loss: 0.5201 Accuracy: 0.7169 Precision: 0.8392 Recall: 0.5363\n",
            "Epoch 23/30\n",
            "Loss: 0.5130 Accuracy: 0.7190 Precision: 0.8618 Recall: 0.5215\n",
            "Epoch 24/30\n",
            "Loss: 0.5107 Accuracy: 0.7239 Precision: 0.8636 Recall: 0.5316\n",
            "Epoch 25/30\n",
            "Loss: 0.5085 Accuracy: 0.7208 Precision: 0.8408 Recall: 0.5445\n",
            "Epoch 26/30\n",
            "Loss: 0.5207 Accuracy: 0.7213 Precision: 0.8435 Recall: 0.5434\n",
            "Epoch 27/30\n",
            "Loss: 0.5113 Accuracy: 0.7211 Precision: 0.8587 Recall: 0.5293\n",
            "Epoch 28/30\n",
            "Loss: 0.4973 Accuracy: 0.7376 Precision: 0.8576 Recall: 0.5695\n",
            "Epoch 29/30\n",
            "Loss: 0.5019 Accuracy: 0.7344 Precision: 0.8488 Recall: 0.5703\n",
            "Epoch 30/30\n",
            "Loss: 0.5097 Accuracy: 0.7251 Precision: 0.8408 Recall: 0.5551\n"
          ]
        }
      ],
      "source": [
        "# Train modello 9\n",
        "trained_model9 = train_model(alexnet, train_loader, criterion, optimizer, num_epochs)"
      ]
    },
    {
      "cell_type": "code",
      "execution_count": null,
      "metadata": {
        "id": "FgTmw1hns-sl",
        "outputId": "b088752c-b4d9-4f54-f19e-029970af3a81",
        "collapsed": true
      },
      "outputs": [
        {
          "name": "stdout",
          "output_type": "stream",
          "text": [
            "Epoch 1/50\n",
            "Loss: 0.4508 Accuracy: 0.7586 Precision: 0.8796 Recall: 0.5992\n",
            "Epoch 2/50\n",
            "Loss: 0.4627 Accuracy: 0.7543 Precision: 0.8816 Recall: 0.5875\n",
            "Epoch 3/50\n",
            "Loss: 0.4451 Accuracy: 0.7727 Precision: 0.8891 Recall: 0.6230\n",
            "Epoch 4/50\n",
            "Loss: 0.4630 Accuracy: 0.7534 Precision: 0.8881 Recall: 0.5797\n",
            "Epoch 5/50\n",
            "Loss: 0.4432 Accuracy: 0.7821 Precision: 0.8695 Recall: 0.6637\n",
            "Epoch 6/50\n",
            "Loss: 0.4308 Accuracy: 0.7807 Precision: 0.8656 Recall: 0.6645\n",
            "Epoch 7/50\n",
            "Loss: 0.4340 Accuracy: 0.7877 Precision: 0.8659 Recall: 0.6809\n",
            "Epoch 8/50\n",
            "Loss: 0.4335 Accuracy: 0.7864 Precision: 0.8842 Recall: 0.6590\n",
            "Epoch 9/50\n",
            "Loss: 0.4325 Accuracy: 0.7803 Precision: 0.8872 Recall: 0.6422\n",
            "Epoch 10/50\n",
            "Loss: 0.4296 Accuracy: 0.7858 Precision: 0.8663 Recall: 0.6758\n",
            "Epoch 11/50\n",
            "Loss: 0.4245 Accuracy: 0.7897 Precision: 0.8824 Recall: 0.6684\n",
            "Epoch 12/50\n",
            "Loss: 0.4159 Accuracy: 0.7922 Precision: 0.8941 Recall: 0.6629\n",
            "Epoch 13/50\n",
            "Loss: 0.4203 Accuracy: 0.7905 Precision: 0.8907 Recall: 0.6621\n",
            "Epoch 14/50\n",
            "Loss: 0.4328 Accuracy: 0.7911 Precision: 0.8684 Recall: 0.6859\n",
            "Epoch 15/50\n",
            "Loss: 0.4206 Accuracy: 0.7911 Precision: 0.8905 Recall: 0.6637\n",
            "Epoch 16/50\n",
            "Loss: 0.4287 Accuracy: 0.7848 Precision: 0.8727 Recall: 0.6668\n",
            "Epoch 17/50\n",
            "Loss: 0.4251 Accuracy: 0.7940 Precision: 0.8776 Recall: 0.6832\n",
            "Epoch 18/50\n",
            "Loss: 0.4235 Accuracy: 0.7866 Precision: 0.8891 Recall: 0.6547\n",
            "Epoch 19/50\n",
            "Loss: 0.4346 Accuracy: 0.7860 Precision: 0.8828 Recall: 0.6594\n",
            "Epoch 20/50\n",
            "Loss: 0.4286 Accuracy: 0.7840 Precision: 0.8990 Recall: 0.6398\n",
            "Epoch 21/50\n",
            "Loss: 0.4222 Accuracy: 0.7877 Precision: 0.8903 Recall: 0.6562\n",
            "Epoch 22/50\n",
            "Loss: 0.4275 Accuracy: 0.7883 Precision: 0.8754 Recall: 0.6723\n",
            "Epoch 23/50\n",
            "Loss: 0.4340 Accuracy: 0.7831 Precision: 0.8795 Recall: 0.6559\n",
            "Epoch 24/50\n",
            "Loss: 0.4349 Accuracy: 0.7866 Precision: 0.8799 Recall: 0.6637\n",
            "Epoch 25/50\n",
            "Loss: 0.4196 Accuracy: 0.7959 Precision: 0.8968 Recall: 0.6687\n",
            "Epoch 26/50\n",
            "Loss: 0.4286 Accuracy: 0.7864 Precision: 0.8887 Recall: 0.6547\n",
            "Epoch 27/50\n",
            "Loss: 0.4331 Accuracy: 0.7840 Precision: 0.8871 Recall: 0.6508\n",
            "Epoch 28/50\n",
            "Loss: 0.4289 Accuracy: 0.7868 Precision: 0.8831 Recall: 0.6609\n",
            "Epoch 29/50\n",
            "Loss: 0.4203 Accuracy: 0.7881 Precision: 0.8788 Recall: 0.6684\n",
            "Epoch 30/50\n",
            "Loss: 0.4270 Accuracy: 0.7866 Precision: 0.8863 Recall: 0.6574\n",
            "Epoch 31/50\n",
            "Loss: 0.4083 Accuracy: 0.7989 Precision: 0.8887 Recall: 0.6832\n",
            "Epoch 32/50\n",
            "Loss: 0.4246 Accuracy: 0.7885 Precision: 0.8820 Recall: 0.6660\n",
            "Epoch 33/50\n",
            "Loss: 0.4275 Accuracy: 0.7879 Precision: 0.8799 Recall: 0.6668\n",
            "Epoch 34/50\n",
            "Loss: 0.4172 Accuracy: 0.7961 Precision: 0.8940 Recall: 0.6719\n",
            "Epoch 35/50\n",
            "Loss: 0.4270 Accuracy: 0.7893 Precision: 0.8859 Recall: 0.6641\n",
            "Epoch 36/50\n",
            "Loss: 0.4182 Accuracy: 0.7924 Precision: 0.8888 Recall: 0.6684\n",
            "Epoch 37/50\n",
            "Loss: 0.4116 Accuracy: 0.7955 Precision: 0.8934 Recall: 0.6711\n",
            "Epoch 38/50\n",
            "Loss: 0.4210 Accuracy: 0.7918 Precision: 0.8911 Recall: 0.6648\n",
            "Epoch 39/50\n",
            "Loss: 0.4278 Accuracy: 0.7881 Precision: 0.8942 Recall: 0.6535\n",
            "Epoch 40/50\n",
            "Loss: 0.4511 Accuracy: 0.7610 Precision: 0.8875 Recall: 0.5977\n",
            "Epoch 41/50\n",
            "Loss: 0.4380 Accuracy: 0.7858 Precision: 0.8784 Recall: 0.6633\n",
            "Epoch 42/50\n",
            "Loss: 0.4220 Accuracy: 0.7920 Precision: 0.8863 Recall: 0.6699\n",
            "Epoch 43/50\n",
            "Loss: 0.4218 Accuracy: 0.7856 Precision: 0.8745 Recall: 0.6668\n",
            "Epoch 44/50\n",
            "Loss: 0.4173 Accuracy: 0.7932 Precision: 0.9003 Recall: 0.6594\n",
            "Epoch 45/50\n",
            "Loss: 0.4232 Accuracy: 0.7868 Precision: 0.9020 Recall: 0.6434\n",
            "Epoch 46/50\n",
            "Loss: 0.4112 Accuracy: 0.7981 Precision: 0.8974 Recall: 0.6730\n",
            "Epoch 47/50\n",
            "Loss: 0.4157 Accuracy: 0.7940 Precision: 0.8802 Recall: 0.6805\n",
            "Epoch 48/50\n",
            "Loss: 0.4172 Accuracy: 0.7932 Precision: 0.8867 Recall: 0.6723\n",
            "Epoch 49/50\n",
            "Loss: 0.4096 Accuracy: 0.8014 Precision: 0.8859 Recall: 0.6918\n",
            "Epoch 50/50\n",
            "Loss: 0.4143 Accuracy: 0.8016 Precision: 0.8939 Recall: 0.6844\n"
          ]
        }
      ],
      "source": [
        "# Train modello 10\n",
        "trained_model10 = train_model(alexnet, train_loader, criterion, optimizer, num_epochs=50)"
      ]
    },
    {
      "cell_type": "code",
      "execution_count": null,
      "metadata": {
        "id": "GxbBis6us-sl",
        "outputId": "ec5118d7-c6ab-4ea0-e220-cf0fae150a83"
      },
      "outputs": [
        {
          "name": "stdout",
          "output_type": "stream",
          "text": [
            "Test Loss: 0.5496\n",
            "Test Accuracy: 0.7084\n",
            "Test Precision: 0.7834\n",
            "Test Recall: 0.5766\n"
          ]
        }
      ],
      "source": [
        "# Test modello 10\n",
        "test_model(trained_model10, test_loader, criterion, device)"
      ]
    },
    {
      "cell_type": "code",
      "execution_count": null,
      "metadata": {
        "id": "TrRRFC6cs-sl"
      },
      "outputs": [],
      "source": [
        "# Salvataggio modello 10\n",
        "save_model(trained_model10.state_dict(), 'model/modello_fia10.pth')"
      ]
    },
    {
      "cell_type": "code",
      "execution_count": null,
      "metadata": {
        "id": "gI0a02fKs-sl",
        "outputId": "00fca1a8-fb1d-4a18-a8b2-2bfcb3b993d7",
        "collapsed": true
      },
      "outputs": [
        {
          "name": "stdout",
          "output_type": "stream",
          "text": [
            "Epoch 1/100\n",
            "Loss: 0.3411 Accuracy: 0.8218 Precision: 0.9021 Recall: 0.7220\n",
            "Epoch 2/100\n",
            "Loss: 0.3403 Accuracy: 0.8170 Precision: 0.9026 Recall: 0.7107\n",
            "Epoch 3/100\n",
            "Loss: 0.3283 Accuracy: 0.8222 Precision: 0.8388 Recall: 0.7977\n",
            "Epoch 4/100\n",
            "Loss: 0.3364 Accuracy: 0.8143 Precision: 0.8718 Recall: 0.7370\n",
            "Epoch 5/100\n",
            "Loss: 0.3377 Accuracy: 0.8143 Precision: 0.7879 Recall: 0.8603\n",
            "Epoch 6/100\n",
            "Loss: 0.3323 Accuracy: 0.8187 Precision: 0.9058 Recall: 0.7113\n",
            "Epoch 7/100\n",
            "Loss: 0.3343 Accuracy: 0.8218 Precision: 0.9121 Recall: 0.7123\n",
            "Epoch 8/100\n",
            "Loss: 0.3342 Accuracy: 0.8127 Precision: 0.8835 Recall: 0.7203\n",
            "Epoch 9/100\n",
            "Loss: 0.3368 Accuracy: 0.8132 Precision: 0.8197 Recall: 0.8030\n",
            "Epoch 10/100\n",
            "Loss: 0.3260 Accuracy: 0.8218 Precision: 0.8235 Recall: 0.8193\n",
            "Epoch 11/100\n",
            "Loss: 0.3455 Accuracy: 0.8120 Precision: 0.8322 Recall: 0.7817\n",
            "Epoch 12/100\n",
            "Loss: 0.3411 Accuracy: 0.8200 Precision: 0.9057 Recall: 0.7143\n",
            "Epoch 13/100\n",
            "Loss: 0.3251 Accuracy: 0.8252 Precision: 0.9023 Recall: 0.7293\n",
            "Epoch 14/100\n",
            "Loss: 0.3601 Accuracy: 0.8080 Precision: 0.8350 Recall: 0.7677\n",
            "Epoch 15/100\n",
            "Loss: 0.3251 Accuracy: 0.8223 Precision: 0.8644 Recall: 0.7647\n",
            "Epoch 16/100\n",
            "Loss: 0.3389 Accuracy: 0.8218 Precision: 0.9079 Recall: 0.7163\n",
            "Epoch 17/100\n",
            "Loss: 0.3232 Accuracy: 0.8293 Precision: 0.9069 Recall: 0.7340\n",
            "Epoch 18/100\n",
            "Loss: 0.3293 Accuracy: 0.8245 Precision: 0.9024 Recall: 0.7277\n",
            "Epoch 19/100\n",
            "Loss: 0.3157 Accuracy: 0.8268 Precision: 0.9050 Recall: 0.7303\n",
            "Epoch 20/100\n",
            "Loss: 0.3339 Accuracy: 0.8208 Precision: 0.8995 Recall: 0.7223\n",
            "Epoch 21/100\n",
            "Loss: 0.3188 Accuracy: 0.8298 Precision: 0.9050 Recall: 0.7370\n",
            "Epoch 22/100\n",
            "Loss: 0.3225 Accuracy: 0.8265 Precision: 0.8281 Recall: 0.8240\n",
            "Epoch 23/100\n",
            "Loss: 0.3305 Accuracy: 0.8195 Precision: 0.8315 Recall: 0.8013\n",
            "Epoch 24/100\n",
            "Loss: 0.3360 Accuracy: 0.8135 Precision: 0.8394 Recall: 0.7753\n",
            "Epoch 25/100\n",
            "Loss: 0.3234 Accuracy: 0.8223 Precision: 0.8813 Recall: 0.7450\n",
            "Epoch 26/100\n",
            "Loss: 0.3421 Accuracy: 0.8185 Precision: 0.7646 Recall: 0.9203\n",
            "Epoch 27/100\n",
            "Loss: 0.3291 Accuracy: 0.8213 Precision: 0.7712 Recall: 0.9137\n",
            "Epoch 28/100\n",
            "Loss: 0.3291 Accuracy: 0.8243 Precision: 0.8590 Recall: 0.7760\n",
            "Epoch 29/100\n",
            "Loss: 0.3412 Accuracy: 0.8208 Precision: 0.9126 Recall: 0.7097\n",
            "Epoch 30/100\n",
            "Loss: 0.3453 Accuracy: 0.8242 Precision: 0.9154 Recall: 0.7143\n",
            "Epoch 31/100\n",
            "Loss: 0.3211 Accuracy: 0.8302 Precision: 0.9150 Recall: 0.7280\n",
            "Epoch 32/100\n",
            "Loss: 0.3258 Accuracy: 0.8225 Precision: 0.9000 Recall: 0.7257\n",
            "Epoch 33/100\n",
            "Loss: 0.3218 Accuracy: 0.8298 Precision: 0.8713 Recall: 0.7740\n",
            "Epoch 34/100\n",
            "Loss: 0.3196 Accuracy: 0.8300 Precision: 0.8402 Recall: 0.8150\n",
            "Epoch 35/100\n",
            "Loss: 0.3254 Accuracy: 0.8192 Precision: 0.7978 Recall: 0.8550\n",
            "Epoch 36/100\n",
            "Loss: 0.3286 Accuracy: 0.8198 Precision: 0.8024 Recall: 0.8487\n",
            "Epoch 37/100\n",
            "Loss: 0.3217 Accuracy: 0.8280 Precision: 0.9059 Recall: 0.7320\n",
            "Epoch 38/100\n",
            "Loss: 0.3195 Accuracy: 0.8237 Precision: 0.8019 Recall: 0.8597\n",
            "Epoch 39/100\n",
            "Loss: 0.3156 Accuracy: 0.8258 Precision: 0.8884 Recall: 0.7453\n",
            "Epoch 40/100\n",
            "Loss: 0.3287 Accuracy: 0.8228 Precision: 0.9044 Recall: 0.7220\n",
            "Epoch 41/100\n",
            "Loss: 0.3273 Accuracy: 0.8287 Precision: 0.9095 Recall: 0.7300\n",
            "Epoch 42/100\n",
            "Loss: 0.3171 Accuracy: 0.8315 Precision: 0.9008 Recall: 0.7450\n",
            "Epoch 43/100\n",
            "Loss: 0.3239 Accuracy: 0.8252 Precision: 0.9076 Recall: 0.7240\n",
            "Epoch 44/100\n",
            "Loss: 0.3120 Accuracy: 0.8332 Precision: 0.9105 Recall: 0.7390\n",
            "Epoch 45/100\n",
            "Loss: 0.3187 Accuracy: 0.8258 Precision: 0.8811 Recall: 0.7533\n",
            "Epoch 46/100\n",
            "Loss: 0.3217 Accuracy: 0.8257 Precision: 0.7807 Recall: 0.9057\n",
            "Epoch 47/100\n",
            "Loss: 0.3183 Accuracy: 0.8247 Precision: 0.8743 Recall: 0.7583\n",
            "Epoch 48/100\n",
            "Loss: 0.3290 Accuracy: 0.8240 Precision: 0.8439 Recall: 0.7950\n",
            "Epoch 49/100\n",
            "Loss: 0.3200 Accuracy: 0.8290 Precision: 0.7876 Recall: 0.9010\n",
            "Epoch 50/100\n",
            "Loss: 0.3203 Accuracy: 0.8358 Precision: 0.8922 Recall: 0.7640\n",
            "Epoch 51/100\n",
            "Loss: 0.3192 Accuracy: 0.8182 Precision: 0.8707 Recall: 0.7473\n",
            "Epoch 52/100\n",
            "Loss: 0.3252 Accuracy: 0.8243 Precision: 0.9075 Recall: 0.7223\n",
            "Epoch 53/100\n",
            "Loss: 0.3076 Accuracy: 0.8288 Precision: 0.8979 Recall: 0.7420\n",
            "Epoch 54/100\n",
            "Loss: 0.3296 Accuracy: 0.8208 Precision: 0.8747 Recall: 0.7490\n",
            "Epoch 55/100\n",
            "Loss: 0.3190 Accuracy: 0.8325 Precision: 0.9097 Recall: 0.7383\n",
            "Epoch 56/100\n",
            "Loss: 0.3081 Accuracy: 0.8393 Precision: 0.9217 Recall: 0.7417\n",
            "Epoch 57/100\n",
            "Loss: 0.3204 Accuracy: 0.8237 Precision: 0.9150 Recall: 0.7137\n",
            "Epoch 58/100\n",
            "Loss: 0.3222 Accuracy: 0.8218 Precision: 0.8335 Recall: 0.8043\n",
            "Epoch 59/100\n",
            "Loss: 0.3294 Accuracy: 0.8187 Precision: 0.8366 Recall: 0.7920\n",
            "Epoch 60/100\n",
            "Loss: 0.3194 Accuracy: 0.8262 Precision: 0.8160 Recall: 0.8423\n",
            "Epoch 61/100\n",
            "Loss: 0.3303 Accuracy: 0.8180 Precision: 0.7884 Recall: 0.8693\n",
            "Epoch 62/100\n",
            "Loss: 0.3107 Accuracy: 0.8348 Precision: 0.9184 Recall: 0.7350\n",
            "Epoch 63/100\n",
            "Loss: 0.3040 Accuracy: 0.8295 Precision: 0.8429 Recall: 0.8100\n",
            "Epoch 64/100\n",
            "Loss: 0.3279 Accuracy: 0.8288 Precision: 0.8623 Recall: 0.7827\n",
            "Epoch 65/100\n",
            "Loss: 0.3174 Accuracy: 0.8260 Precision: 0.8562 Recall: 0.7837\n",
            "Epoch 66/100\n",
            "Loss: 0.3066 Accuracy: 0.8335 Precision: 0.8642 Recall: 0.7913\n",
            "Epoch 67/100\n",
            "Loss: 0.3125 Accuracy: 0.8315 Precision: 0.8053 Recall: 0.8743\n",
            "Epoch 68/100\n",
            "Loss: 0.3285 Accuracy: 0.8280 Precision: 0.7953 Recall: 0.8833\n",
            "Epoch 69/100\n",
            "Loss: 0.3156 Accuracy: 0.8312 Precision: 0.9124 Recall: 0.7327\n",
            "Epoch 70/100\n",
            "Loss: 0.3105 Accuracy: 0.8300 Precision: 0.8678 Recall: 0.7787\n",
            "Epoch 71/100\n",
            "Loss: 0.3138 Accuracy: 0.8230 Precision: 0.8424 Recall: 0.7947\n",
            "Epoch 72/100\n",
            "Loss: 0.3093 Accuracy: 0.8338 Precision: 0.8772 Recall: 0.7763\n",
            "Epoch 73/100\n",
            "Loss: 0.3042 Accuracy: 0.8327 Precision: 0.7937 Recall: 0.8990\n",
            "Epoch 74/100\n",
            "Loss: 0.3017 Accuracy: 0.8352 Precision: 0.9133 Recall: 0.7407\n",
            "Epoch 75/100\n",
            "Loss: 0.3065 Accuracy: 0.8250 Precision: 0.8155 Recall: 0.8400\n",
            "Epoch 76/100\n",
            "Loss: 0.3071 Accuracy: 0.8383 Precision: 0.9009 Recall: 0.7603\n",
            "Epoch 77/100\n",
            "Loss: 0.3048 Accuracy: 0.8340 Precision: 0.9175 Recall: 0.7340\n",
            "Epoch 78/100\n",
            "Loss: 0.3062 Accuracy: 0.8298 Precision: 0.9104 Recall: 0.7317\n",
            "Epoch 79/100\n",
            "Loss: 0.3048 Accuracy: 0.8370 Precision: 0.7912 Recall: 0.9157\n",
            "Epoch 80/100\n",
            "Loss: 0.3087 Accuracy: 0.8335 Precision: 0.7879 Recall: 0.9127\n",
            "Epoch 81/100\n",
            "Loss: 0.3103 Accuracy: 0.8378 Precision: 0.7980 Recall: 0.9047\n",
            "Epoch 82/100\n",
            "Loss: 0.3055 Accuracy: 0.8358 Precision: 0.7860 Recall: 0.9230\n",
            "Epoch 83/100\n",
            "Loss: 0.3135 Accuracy: 0.8265 Precision: 0.7791 Recall: 0.9113\n",
            "Epoch 84/100\n",
            "Loss: 0.3110 Accuracy: 0.8307 Precision: 0.8732 Recall: 0.7737\n",
            "Epoch 85/100\n",
            "Loss: 0.3130 Accuracy: 0.8318 Precision: 0.8477 Recall: 0.8090\n",
            "Epoch 86/100\n",
            "Loss: 0.3155 Accuracy: 0.8327 Precision: 0.8383 Recall: 0.8243\n",
            "Epoch 87/100\n",
            "Loss: 0.3101 Accuracy: 0.8283 Precision: 0.7985 Recall: 0.8783\n",
            "Epoch 88/100\n",
            "Loss: 0.3026 Accuracy: 0.8367 Precision: 0.7928 Recall: 0.9117\n",
            "Epoch 89/100\n",
            "Loss: 0.3035 Accuracy: 0.8328 Precision: 0.8279 Recall: 0.8403\n",
            "Epoch 90/100\n",
            "Loss: 0.3058 Accuracy: 0.8373 Precision: 0.7903 Recall: 0.9183\n",
            "Epoch 91/100\n",
            "Loss: 0.2984 Accuracy: 0.8397 Precision: 0.8015 Recall: 0.9030\n",
            "Epoch 92/100\n",
            "Loss: 0.3139 Accuracy: 0.8228 Precision: 0.8364 Recall: 0.8027\n",
            "Epoch 93/100\n",
            "Loss: 0.3164 Accuracy: 0.8298 Precision: 0.8828 Recall: 0.7607\n",
            "Epoch 94/100\n",
            "Loss: 0.3054 Accuracy: 0.8375 Precision: 0.8082 Recall: 0.8850\n",
            "Epoch 95/100\n",
            "Loss: 0.3021 Accuracy: 0.8398 Precision: 0.7947 Recall: 0.9163\n",
            "Epoch 96/100\n",
            "Loss: 0.3148 Accuracy: 0.8292 Precision: 0.7745 Recall: 0.9287\n",
            "Epoch 97/100\n",
            "Loss: 0.3020 Accuracy: 0.8330 Precision: 0.8553 Recall: 0.8017\n",
            "Epoch 98/100\n",
            "Loss: 0.3047 Accuracy: 0.8290 Precision: 0.8147 Recall: 0.8517\n",
            "Epoch 99/100\n",
            "Loss: 0.3063 Accuracy: 0.8248 Precision: 0.7994 Recall: 0.8673\n",
            "Epoch 100/100\n",
            "Loss: 0.3021 Accuracy: 0.8275 Precision: 0.8187 Recall: 0.8413\n"
          ]
        }
      ],
      "source": [
        "# Train modello 11\n",
        "trained_model11 = train_model(alexnet, train_loader, criterion, optimizer, num_epochs=100)"
      ]
    },
    {
      "cell_type": "code",
      "execution_count": null,
      "metadata": {
        "id": "_XLo-4y7s-sl",
        "outputId": "cd3cbd83-be52-4196-8a38-7b3fc66657f4"
      },
      "outputs": [
        {
          "name": "stdout",
          "output_type": "stream",
          "text": [
            "Test Loss: 0.5574\n",
            "Test Accuracy: 0.7349\n",
            "Test Precision: 0.7400\n",
            "Test Recall: 0.7250\n"
          ]
        }
      ],
      "source": [
        "# Test modello 11\n",
        "test_model(trained_model11, test_loader, criterion, device)"
      ]
    },
    {
      "cell_type": "code",
      "execution_count": null,
      "metadata": {
        "id": "LGwEah-Ks-sl",
        "outputId": "ac9410d6-9302-4b69-e1d6-8c478510c0c1",
        "collapsed": true
      },
      "outputs": [
        {
          "name": "stdout",
          "output_type": "stream",
          "text": [
            "Epoch 1/50\n",
            "Loss: 0.5235 Accuracy: 0.7344 Precision: 0.7860 Recall: 0.6441\n",
            "Epoch 2/50\n",
            "Loss: 0.5331 Accuracy: 0.7215 Precision: 0.7849 Recall: 0.6102\n",
            "Epoch 3/50\n",
            "Loss: 0.5150 Accuracy: 0.7452 Precision: 0.8263 Recall: 0.6207\n",
            "Epoch 4/50\n",
            "Loss: 0.5170 Accuracy: 0.7385 Precision: 0.8201 Recall: 0.6109\n",
            "Epoch 5/50\n",
            "Loss: 0.5221 Accuracy: 0.7362 Precision: 0.7853 Recall: 0.6500\n",
            "Epoch 6/50\n",
            "Loss: 0.5247 Accuracy: 0.7356 Precision: 0.7930 Recall: 0.6375\n",
            "Epoch 7/50\n",
            "Loss: 0.5210 Accuracy: 0.7366 Precision: 0.7990 Recall: 0.6320\n",
            "Epoch 8/50\n",
            "Loss: 0.5249 Accuracy: 0.7362 Precision: 0.8147 Recall: 0.6113\n",
            "Epoch 9/50\n",
            "Loss: 0.5200 Accuracy: 0.7407 Precision: 0.8179 Recall: 0.6191\n",
            "Epoch 10/50\n",
            "Loss: 0.5195 Accuracy: 0.7417 Precision: 0.8200 Recall: 0.6191\n",
            "Epoch 11/50\n",
            "Loss: 0.5166 Accuracy: 0.7440 Precision: 0.8185 Recall: 0.6270\n",
            "Epoch 12/50\n",
            "Loss: 0.5149 Accuracy: 0.7518 Precision: 0.8334 Recall: 0.6293\n",
            "Epoch 13/50\n",
            "Loss: 0.5114 Accuracy: 0.7473 Precision: 0.8371 Recall: 0.6141\n",
            "Epoch 14/50\n",
            "Loss: 0.5196 Accuracy: 0.7467 Precision: 0.7994 Recall: 0.6586\n",
            "Epoch 15/50\n",
            "Loss: 0.5269 Accuracy: 0.7327 Precision: 0.7864 Recall: 0.6387\n",
            "Epoch 16/50\n",
            "Loss: 0.5258 Accuracy: 0.7391 Precision: 0.8290 Recall: 0.6023\n",
            "Epoch 17/50\n",
            "Loss: 0.5039 Accuracy: 0.7522 Precision: 0.8371 Recall: 0.6262\n",
            "Epoch 18/50\n",
            "Loss: 0.5181 Accuracy: 0.7418 Precision: 0.8265 Recall: 0.6121\n",
            "Epoch 19/50\n",
            "Loss: 0.5165 Accuracy: 0.7471 Precision: 0.8282 Recall: 0.6234\n",
            "Epoch 20/50\n",
            "Loss: 0.5100 Accuracy: 0.7502 Precision: 0.8434 Recall: 0.6145\n",
            "Epoch 21/50\n",
            "Loss: 0.5390 Accuracy: 0.7229 Precision: 0.8323 Recall: 0.5582\n",
            "Epoch 22/50\n",
            "Loss: 0.5436 Accuracy: 0.7157 Precision: 0.8259 Recall: 0.5465\n",
            "Epoch 23/50\n",
            "Loss: 0.5312 Accuracy: 0.7262 Precision: 0.8509 Recall: 0.5484\n",
            "Epoch 24/50\n",
            "Loss: 0.5390 Accuracy: 0.7243 Precision: 0.8388 Recall: 0.5551\n",
            "Epoch 25/50\n",
            "Loss: 0.5199 Accuracy: 0.7364 Precision: 0.8194 Recall: 0.6062\n",
            "Epoch 26/50\n",
            "Loss: 0.5131 Accuracy: 0.7499 Precision: 0.8258 Recall: 0.6332\n",
            "Epoch 27/50\n",
            "Loss: 0.5113 Accuracy: 0.7479 Precision: 0.8303 Recall: 0.6230\n",
            "Epoch 28/50\n",
            "Loss: 0.5161 Accuracy: 0.7459 Precision: 0.8200 Recall: 0.6301\n",
            "Epoch 29/50\n",
            "Loss: 0.5101 Accuracy: 0.7420 Precision: 0.8192 Recall: 0.6211\n",
            "Epoch 30/50\n",
            "Loss: 0.5112 Accuracy: 0.7432 Precision: 0.8194 Recall: 0.6238\n",
            "Epoch 31/50\n",
            "Loss: 0.5176 Accuracy: 0.7428 Precision: 0.8242 Recall: 0.6172\n",
            "Epoch 32/50\n",
            "Loss: 0.5143 Accuracy: 0.7383 Precision: 0.8014 Recall: 0.6336\n",
            "Epoch 33/50\n",
            "Loss: 0.5107 Accuracy: 0.7469 Precision: 0.8179 Recall: 0.6352\n",
            "Epoch 34/50\n",
            "Loss: 0.5039 Accuracy: 0.7596 Precision: 0.8548 Recall: 0.6254\n",
            "Epoch 35/50\n",
            "Loss: 0.5069 Accuracy: 0.7555 Precision: 0.8286 Recall: 0.6441\n",
            "Epoch 36/50\n",
            "Loss: 0.5126 Accuracy: 0.7428 Precision: 0.8166 Recall: 0.6262\n",
            "Epoch 37/50\n",
            "Loss: 0.5092 Accuracy: 0.7479 Precision: 0.8488 Recall: 0.6031\n",
            "Epoch 38/50\n",
            "Loss: 0.5088 Accuracy: 0.7442 Precision: 0.8192 Recall: 0.6266\n",
            "Epoch 39/50\n",
            "Loss: 0.5033 Accuracy: 0.7540 Precision: 0.8189 Recall: 0.6520\n",
            "Epoch 40/50\n",
            "Loss: 0.5138 Accuracy: 0.7450 Precision: 0.8637 Recall: 0.5816\n",
            "Epoch 41/50\n",
            "Loss: 0.5086 Accuracy: 0.7473 Precision: 0.8140 Recall: 0.6410\n",
            "Epoch 42/50\n",
            "Loss: 0.5157 Accuracy: 0.7440 Precision: 0.8221 Recall: 0.6227\n",
            "Epoch 43/50\n",
            "Loss: 0.5099 Accuracy: 0.7495 Precision: 0.8394 Recall: 0.6168\n",
            "Epoch 44/50\n",
            "Loss: 0.5037 Accuracy: 0.7522 Precision: 0.8191 Recall: 0.6473\n",
            "Epoch 45/50\n",
            "Loss: 0.5109 Accuracy: 0.7426 Precision: 0.8083 Recall: 0.6359\n",
            "Epoch 46/50\n",
            "Loss: 0.5120 Accuracy: 0.7459 Precision: 0.8263 Recall: 0.6227\n",
            "Epoch 47/50\n",
            "Loss: 0.5078 Accuracy: 0.7512 Precision: 0.8274 Recall: 0.6348\n",
            "Epoch 48/50\n",
            "Loss: 0.5220 Accuracy: 0.7376 Precision: 0.7932 Recall: 0.6426\n",
            "Epoch 49/50\n",
            "Loss: 0.5107 Accuracy: 0.7475 Precision: 0.8035 Recall: 0.6551\n",
            "Epoch 50/50\n",
            "Loss: 0.4997 Accuracy: 0.7622 Precision: 0.8403 Recall: 0.6473\n"
          ]
        }
      ],
      "source": [
        "# Train modello 12\n",
        "trained_model12 = train_model(alexnet, train_loader, criterion, optimizer, num_epochs=50)"
      ]
    },
    {
      "cell_type": "code",
      "execution_count": null,
      "metadata": {
        "id": "umbVQYIbs-sl",
        "outputId": "15c19f86-456e-4d6c-e944-18350478bf40"
      },
      "outputs": [
        {
          "name": "stdout",
          "output_type": "stream",
          "text": [
            "Test Loss: 0.5662\n",
            "Test Accuracy: 0.7021\n",
            "Test Precision: 0.7085\n",
            "Test Recall: 0.6875\n"
          ]
        }
      ],
      "source": [
        "# Test modello 12\n",
        "test_model(trained_model11, test_loader, criterion, device)"
      ]
    },
    {
      "cell_type": "code",
      "execution_count": null,
      "metadata": {
        "id": "WXIOljOHs-sm",
        "outputId": "7b7f541c-f314-4b09-bb83-73862faa1946",
        "collapsed": true
      },
      "outputs": [
        {
          "name": "stdout",
          "output_type": "stream",
          "text": [
            "Epoch 1/30\n",
            "Loss: 0.6140 Accuracy: 0.6737 Precision: 0.6920 Recall: 0.6258\n",
            "Epoch 2/30\n",
            "Loss: 0.6058 Accuracy: 0.6612 Precision: 0.6869 Recall: 0.5922\n",
            "Epoch 3/30\n",
            "Loss: 0.5883 Accuracy: 0.6764 Precision: 0.6952 Recall: 0.6281\n",
            "Epoch 4/30\n",
            "Loss: 0.5831 Accuracy: 0.6829 Precision: 0.7114 Recall: 0.6152\n",
            "Epoch 5/30\n",
            "Loss: 0.5788 Accuracy: 0.6913 Precision: 0.7192 Recall: 0.6273\n",
            "Epoch 6/30\n",
            "Loss: 0.5733 Accuracy: 0.6991 Precision: 0.7360 Recall: 0.6207\n",
            "Epoch 7/30\n",
            "Loss: 0.5798 Accuracy: 0.6827 Precision: 0.7177 Recall: 0.6020\n",
            "Epoch 8/30\n",
            "Loss: 0.5683 Accuracy: 0.6965 Precision: 0.7454 Recall: 0.5969\n",
            "Epoch 9/30\n",
            "Loss: 0.5663 Accuracy: 0.6922 Precision: 0.7465 Recall: 0.5820\n",
            "Epoch 10/30\n",
            "Loss: 0.5682 Accuracy: 0.6862 Precision: 0.7528 Recall: 0.5543\n",
            "Epoch 11/30\n",
            "Loss: 0.5487 Accuracy: 0.7024 Precision: 0.7529 Recall: 0.6023\n",
            "Epoch 12/30\n",
            "Loss: 0.5483 Accuracy: 0.7018 Precision: 0.7506 Recall: 0.6043\n",
            "Epoch 13/30\n",
            "Loss: 0.5678 Accuracy: 0.7049 Precision: 0.7567 Recall: 0.6039\n",
            "Epoch 14/30\n",
            "Loss: 0.5650 Accuracy: 0.6952 Precision: 0.7923 Recall: 0.5289\n",
            "Epoch 15/30\n",
            "Loss: 0.5708 Accuracy: 0.6971 Precision: 0.7792 Recall: 0.5500\n",
            "Epoch 16/30\n",
            "Loss: 0.5827 Accuracy: 0.6823 Precision: 0.7599 Recall: 0.5328\n",
            "Epoch 17/30\n",
            "Loss: 0.5659 Accuracy: 0.6926 Precision: 0.7830 Recall: 0.5328\n",
            "Epoch 18/30\n",
            "Loss: 0.5644 Accuracy: 0.6999 Precision: 0.7694 Recall: 0.5707\n",
            "Epoch 19/30\n",
            "Loss: 0.5532 Accuracy: 0.7030 Precision: 0.7837 Recall: 0.5605\n",
            "Epoch 20/30\n",
            "Loss: 0.5565 Accuracy: 0.6983 Precision: 0.7902 Recall: 0.5398\n",
            "Epoch 21/30\n",
            "Loss: 0.5397 Accuracy: 0.7069 Precision: 0.7542 Recall: 0.6137\n",
            "Epoch 22/30\n",
            "Loss: 0.5684 Accuracy: 0.6792 Precision: 0.7919 Recall: 0.4859\n",
            "Epoch 23/30\n",
            "Loss: 0.5558 Accuracy: 0.6922 Precision: 0.8004 Recall: 0.5121\n",
            "Epoch 24/30\n",
            "Loss: 0.5466 Accuracy: 0.7085 Precision: 0.7885 Recall: 0.5695\n",
            "Epoch 25/30\n",
            "Loss: 0.5529 Accuracy: 0.7001 Precision: 0.7844 Recall: 0.5516\n",
            "Epoch 26/30\n",
            "Loss: 0.5549 Accuracy: 0.6973 Precision: 0.7603 Recall: 0.5762\n",
            "Epoch 27/30\n",
            "Loss: 0.5488 Accuracy: 0.7001 Precision: 0.8044 Recall: 0.5285\n",
            "Epoch 28/30\n",
            "Loss: 0.5600 Accuracy: 0.6921 Precision: 0.8058 Recall: 0.5059\n",
            "Epoch 29/30\n",
            "Loss: 0.5414 Accuracy: 0.7087 Precision: 0.7618 Recall: 0.6070\n",
            "Epoch 30/30\n",
            "Loss: 0.5272 Accuracy: 0.7188 Precision: 0.7954 Recall: 0.5891\n"
          ]
        }
      ],
      "source": [
        "# Train modello 13\n",
        "trained_model13 = train_model(alexnet, train_loader, criterion, optimizer, num_epochs)"
      ]
    },
    {
      "cell_type": "code",
      "execution_count": null,
      "metadata": {
        "id": "0U2eOF0Qs-sm",
        "outputId": "96301259-9986-4fff-d996-38a9ea61784c"
      },
      "outputs": [
        {
          "name": "stdout",
          "output_type": "stream",
          "text": [
            "Test Loss: 0.5554\n",
            "Test Accuracy: 0.7123\n",
            "Test Precision: 0.7656\n",
            "Test Recall: 0.6125\n"
          ]
        }
      ],
      "source": [
        "# Test modello 13\n",
        "test_model(trained_model13, test_loader, criterion, device)"
      ]
    },
    {
      "cell_type": "code",
      "execution_count": null,
      "metadata": {
        "id": "p0-rm-Whs-sn",
        "outputId": "0695a9cc-05bf-422d-b83f-013aef005cd0",
        "collapsed": true
      },
      "outputs": [
        {
          "name": "stdout",
          "output_type": "stream",
          "text": [
            "Epoch 1/30\n",
            "Loss: 0.4464 Accuracy: 0.7767 Precision: 0.8195 Recall: 0.7097\n",
            "Epoch 2/30\n",
            "Loss: 0.4535 Accuracy: 0.7692 Precision: 0.8300 Recall: 0.6770\n",
            "Epoch 3/30\n",
            "Loss: 0.4499 Accuracy: 0.7707 Precision: 0.8452 Recall: 0.6627\n",
            "Epoch 4/30\n",
            "Loss: 0.4488 Accuracy: 0.7710 Precision: 0.8575 Recall: 0.6500\n",
            "Epoch 5/30\n",
            "Loss: 0.4435 Accuracy: 0.7705 Precision: 0.8515 Recall: 0.6553\n",
            "Epoch 6/30\n",
            "Loss: 0.4388 Accuracy: 0.7713 Precision: 0.8485 Recall: 0.6607\n",
            "Epoch 7/30\n",
            "Loss: 0.4249 Accuracy: 0.7817 Precision: 0.8577 Recall: 0.6753\n",
            "Epoch 8/30\n",
            "Loss: 0.4331 Accuracy: 0.7813 Precision: 0.8499 Recall: 0.6833\n",
            "Epoch 9/30\n",
            "Loss: 0.4467 Accuracy: 0.7732 Precision: 0.8634 Recall: 0.6490\n",
            "Epoch 10/30\n",
            "Loss: 0.4320 Accuracy: 0.7853 Precision: 0.8394 Recall: 0.7057\n",
            "Epoch 11/30\n",
            "Loss: 0.4389 Accuracy: 0.7827 Precision: 0.8530 Recall: 0.6830\n",
            "Epoch 12/30\n",
            "Loss: 0.4309 Accuracy: 0.7757 Precision: 0.8534 Recall: 0.6657\n",
            "Epoch 13/30\n",
            "Loss: 0.4228 Accuracy: 0.7802 Precision: 0.8624 Recall: 0.6667\n",
            "Epoch 14/30\n",
            "Loss: 0.4158 Accuracy: 0.7835 Precision: 0.8590 Recall: 0.6783\n",
            "Epoch 15/30\n",
            "Loss: 0.4272 Accuracy: 0.7817 Precision: 0.8565 Recall: 0.6767\n",
            "Epoch 16/30\n",
            "Loss: 0.4254 Accuracy: 0.7782 Precision: 0.8458 Recall: 0.6803\n",
            "Epoch 17/30\n",
            "Loss: 0.4178 Accuracy: 0.7848 Precision: 0.8530 Recall: 0.6883\n",
            "Epoch 18/30\n",
            "Loss: 0.4137 Accuracy: 0.7922 Precision: 0.8496 Recall: 0.7100\n",
            "Epoch 19/30\n",
            "Loss: 0.4112 Accuracy: 0.7878 Precision: 0.8630 Recall: 0.6843\n",
            "Epoch 20/30\n",
            "Loss: 0.4083 Accuracy: 0.7858 Precision: 0.8539 Recall: 0.6897\n",
            "Epoch 21/30\n",
            "Loss: 0.4184 Accuracy: 0.7858 Precision: 0.8635 Recall: 0.6790\n",
            "Epoch 22/30\n",
            "Loss: 0.3965 Accuracy: 0.7918 Precision: 0.8699 Recall: 0.6863\n",
            "Epoch 23/30\n",
            "Loss: 0.3972 Accuracy: 0.7898 Precision: 0.8689 Recall: 0.6827\n",
            "Epoch 24/30\n",
            "Loss: 0.3873 Accuracy: 0.8023 Precision: 0.8792 Recall: 0.7010\n",
            "Epoch 25/30\n",
            "Loss: 0.3953 Accuracy: 0.7978 Precision: 0.8703 Recall: 0.7000\n",
            "Epoch 26/30\n",
            "Loss: 0.3880 Accuracy: 0.8013 Precision: 0.8678 Recall: 0.7110\n",
            "Epoch 27/30\n",
            "Loss: 0.3977 Accuracy: 0.7927 Precision: 0.8788 Recall: 0.6790\n",
            "Epoch 28/30\n",
            "Loss: 0.3940 Accuracy: 0.7947 Precision: 0.8617 Recall: 0.7020\n",
            "Epoch 29/30\n",
            "Loss: 0.3954 Accuracy: 0.7937 Precision: 0.8674 Recall: 0.6933\n",
            "Epoch 30/30\n",
            "Loss: 0.3922 Accuracy: 0.8003 Precision: 0.8764 Recall: 0.6993\n"
          ]
        }
      ],
      "source": [
        "# Train modello 14\n",
        "trained_model14 = train_model(alexnet, train_loader, criterion, optimizer, num_epochs)"
      ]
    },
    {
      "cell_type": "code",
      "execution_count": null,
      "metadata": {
        "id": "s-9D6UG4s-sn",
        "outputId": "59443a1f-f32c-4489-896b-16bfbacfe93f"
      },
      "outputs": [
        {
          "name": "stdout",
          "output_type": "stream",
          "text": [
            "Test Loss: 0.5407\n",
            "Test Accuracy: 0.7052\n",
            "Test Precision: 0.7553\n",
            "Test Recall: 0.6078\n"
          ]
        }
      ],
      "source": [
        "# Test modello 14\n",
        "test_model(trained_model14, test_loader, criterion, device)"
      ]
    },
    {
      "cell_type": "code",
      "execution_count": null,
      "metadata": {
        "id": "kGhCrWlts-so",
        "outputId": "75b13b23-d77e-44a3-fdda-440a5a250c58",
        "collapsed": true
      },
      "outputs": [
        {
          "name": "stdout",
          "output_type": "stream",
          "text": [
            "Epoch 1/30\n",
            "Loss: 0.4381 Accuracy: 0.7812 Precision: 0.8296 Recall: 0.7077\n",
            "Epoch 2/30\n",
            "Loss: 0.4314 Accuracy: 0.7797 Precision: 0.8337 Recall: 0.6987\n",
            "Epoch 3/30\n",
            "Loss: 0.4289 Accuracy: 0.7833 Precision: 0.8344 Recall: 0.7070\n",
            "Epoch 4/30\n",
            "Loss: 0.4323 Accuracy: 0.7808 Precision: 0.8429 Recall: 0.6903\n",
            "Epoch 5/30\n",
            "Loss: 0.4475 Accuracy: 0.7678 Precision: 0.8338 Recall: 0.6690\n",
            "Epoch 6/30\n",
            "Loss: 0.4282 Accuracy: 0.7740 Precision: 0.8293 Recall: 0.6900\n",
            "Epoch 7/30\n",
            "Loss: 0.4242 Accuracy: 0.7812 Precision: 0.8291 Recall: 0.7083\n",
            "Epoch 8/30\n",
            "Loss: 0.4109 Accuracy: 0.7888 Precision: 0.8360 Recall: 0.7187\n",
            "Epoch 9/30\n",
            "Loss: 0.4102 Accuracy: 0.7938 Precision: 0.8475 Recall: 0.7167\n",
            "Epoch 10/30\n",
            "Loss: 0.4162 Accuracy: 0.7870 Precision: 0.8335 Recall: 0.7173\n",
            "Epoch 11/30\n",
            "Loss: 0.4160 Accuracy: 0.7892 Precision: 0.8477 Recall: 0.7050\n",
            "Epoch 12/30\n",
            "Loss: 0.4103 Accuracy: 0.7920 Precision: 0.8452 Recall: 0.7150\n",
            "Epoch 13/30\n",
            "Loss: 0.4135 Accuracy: 0.7895 Precision: 0.8423 Recall: 0.7123\n",
            "Epoch 14/30\n",
            "Loss: 0.4209 Accuracy: 0.7865 Precision: 0.8450 Recall: 0.7017\n",
            "Epoch 15/30\n",
            "Loss: 0.4055 Accuracy: 0.7957 Precision: 0.8517 Recall: 0.7160\n",
            "Epoch 16/30\n",
            "Loss: 0.4081 Accuracy: 0.7872 Precision: 0.8464 Recall: 0.7017\n",
            "Epoch 17/30\n",
            "Loss: 0.4037 Accuracy: 0.8000 Precision: 0.8513 Recall: 0.7270\n",
            "Epoch 18/30\n",
            "Loss: 0.4004 Accuracy: 0.7925 Precision: 0.8569 Recall: 0.7023\n",
            "Epoch 19/30\n",
            "Loss: 0.4022 Accuracy: 0.7895 Precision: 0.8552 Recall: 0.6970\n",
            "Epoch 20/30\n",
            "Loss: 0.4071 Accuracy: 0.7880 Precision: 0.8481 Recall: 0.7017\n",
            "Epoch 21/30\n",
            "Loss: 0.3942 Accuracy: 0.7995 Precision: 0.8601 Recall: 0.7153\n",
            "Epoch 22/30\n",
            "Loss: 0.3889 Accuracy: 0.8063 Precision: 0.8635 Recall: 0.7277\n",
            "Epoch 23/30\n",
            "Loss: 0.3869 Accuracy: 0.8095 Precision: 0.8707 Recall: 0.7270\n",
            "Epoch 24/30\n",
            "Loss: 0.3968 Accuracy: 0.7968 Precision: 0.8561 Recall: 0.7137\n",
            "Epoch 25/30\n",
            "Loss: 0.3848 Accuracy: 0.8065 Precision: 0.8568 Recall: 0.7360\n",
            "Epoch 26/30\n",
            "Loss: 0.3840 Accuracy: 0.8032 Precision: 0.8602 Recall: 0.7240\n",
            "Epoch 27/30\n",
            "Loss: 0.3818 Accuracy: 0.8142 Precision: 0.8666 Recall: 0.7427\n"
          ]
        }
      ],
      "source": [
        "# Train modello 15\n",
        "trained_model15 = train_model(alexnet, train_loader, criterion, optimizer, num_epochs)"
      ]
    },
    {
      "cell_type": "code",
      "execution_count": null,
      "metadata": {
        "id": "RQK6Er59s-so",
        "outputId": "644d2400-8333-463b-beb2-d5ae05b48ea3"
      },
      "outputs": [
        {
          "name": "stdout",
          "output_type": "stream",
          "text": [
            "Test Loss: 0.5790\n",
            "Test Accuracy: 0.7013\n",
            "Test Precision: 0.6880\n",
            "Test Recall: 0.7375\n"
          ]
        }
      ],
      "source": [
        "# Test modello 15\n",
        "test_model(trained_model15, test_loader, criterion, device)"
      ]
    },
    {
      "cell_type": "code",
      "execution_count": null,
      "metadata": {
        "colab": {
          "base_uri": "https://localhost:8080/"
        },
        "id": "uH9TV4hKs-so",
        "collapsed": true,
        "outputId": "0ece67dc-a46b-4e89-ea12-79f819bb6a66"
      },
      "outputs": [
        {
          "output_type": "stream",
          "name": "stdout",
          "text": [
            "Epoch 1/30\n",
            "Loss: 0.4540 Accuracy: 0.7748 Precision: 0.8546 Recall: 0.6623\n",
            "Epoch 2/30\n",
            "Loss: 0.4502 Accuracy: 0.7752 Precision: 0.8490 Recall: 0.6693\n",
            "Epoch 3/30\n",
            "Loss: 0.4467 Accuracy: 0.7802 Precision: 0.8596 Recall: 0.6697\n",
            "Epoch 4/30\n",
            "Loss: 0.4410 Accuracy: 0.7840 Precision: 0.8529 Recall: 0.6863\n",
            "Epoch 5/30\n",
            "Loss: 0.4377 Accuracy: 0.7823 Precision: 0.8641 Recall: 0.6700\n",
            "Epoch 6/30\n",
            "Loss: 0.4389 Accuracy: 0.7780 Precision: 0.8639 Recall: 0.6600\n",
            "Epoch 7/30\n",
            "Loss: 0.4482 Accuracy: 0.7735 Precision: 0.8538 Recall: 0.6600\n",
            "Epoch 8/30\n",
            "Loss: 0.4410 Accuracy: 0.7862 Precision: 0.8582 Recall: 0.6857\n",
            "Epoch 9/30\n",
            "Loss: 0.4441 Accuracy: 0.7805 Precision: 0.8397 Recall: 0.6933\n",
            "Epoch 10/30\n",
            "Loss: 0.4331 Accuracy: 0.7840 Precision: 0.8601 Recall: 0.6783\n",
            "Epoch 11/30\n",
            "Loss: 0.4326 Accuracy: 0.7827 Precision: 0.8539 Recall: 0.6820\n",
            "Epoch 12/30\n",
            "Loss: 0.4294 Accuracy: 0.7863 Precision: 0.8684 Recall: 0.6750\n",
            "Epoch 13/30\n",
            "Loss: 0.4366 Accuracy: 0.7833 Precision: 0.8683 Recall: 0.6680\n",
            "Epoch 14/30\n",
            "Loss: 0.4342 Accuracy: 0.7867 Precision: 0.8610 Recall: 0.6837\n",
            "Epoch 15/30\n",
            "Loss: 0.4387 Accuracy: 0.7810 Precision: 0.8684 Recall: 0.6623\n",
            "Epoch 16/30\n",
            "Loss: 0.4337 Accuracy: 0.7822 Precision: 0.8650 Recall: 0.6687\n",
            "Epoch 17/30\n",
            "Loss: 0.4309 Accuracy: 0.7843 Precision: 0.8630 Recall: 0.6760\n",
            "Epoch 18/30\n",
            "Loss: 0.4357 Accuracy: 0.7838 Precision: 0.8600 Recall: 0.6780\n",
            "Epoch 19/30\n",
            "Loss: 0.4323 Accuracy: 0.7907 Precision: 0.8664 Recall: 0.6873\n",
            "Epoch 20/30\n",
            "Loss: 0.4295 Accuracy: 0.7835 Precision: 0.8587 Recall: 0.6787\n",
            "Epoch 21/30\n",
            "Loss: 0.4365 Accuracy: 0.7873 Precision: 0.8693 Recall: 0.6763\n",
            "Epoch 22/30\n",
            "Loss: 0.4233 Accuracy: 0.7957 Precision: 0.8615 Recall: 0.7047\n",
            "Epoch 23/30\n",
            "Loss: 0.4263 Accuracy: 0.7870 Precision: 0.8648 Recall: 0.6803\n",
            "Epoch 24/30\n",
            "Loss: 0.4395 Accuracy: 0.7893 Precision: 0.8517 Recall: 0.7007\n",
            "Epoch 25/30\n",
            "Loss: 0.4345 Accuracy: 0.7850 Precision: 0.8673 Recall: 0.6730\n",
            "Epoch 26/30\n",
            "Loss: 0.4283 Accuracy: 0.7882 Precision: 0.8631 Recall: 0.6850\n",
            "Epoch 27/30\n",
            "Loss: 0.4202 Accuracy: 0.7902 Precision: 0.8581 Recall: 0.6953\n",
            "Epoch 28/30\n",
            "Loss: 0.4256 Accuracy: 0.7907 Precision: 0.8618 Recall: 0.6923\n",
            "Epoch 29/30\n",
            "Loss: 0.4375 Accuracy: 0.7858 Precision: 0.8714 Recall: 0.6707\n",
            "Epoch 30/30\n",
            "Loss: 0.4237 Accuracy: 0.7922 Precision: 0.8731 Recall: 0.6837\n"
          ]
        }
      ],
      "source": [
        "# Train modello 16\n",
        "trained_model16 = train_model(alexnet, train_loader, criterion, optimizer, num_epochs)"
      ]
    },
    {
      "cell_type": "code",
      "execution_count": null,
      "metadata": {
        "colab": {
          "base_uri": "https://localhost:8080/"
        },
        "id": "XqRp_MzIs-so",
        "outputId": "3b0b3649-dfeb-437c-8140-fe347dff1a5d"
      },
      "outputs": [
        {
          "output_type": "stream",
          "name": "stdout",
          "text": [
            "Test Loss: 0.5629\n",
            "Test Accuracy: 0.7060\n",
            "Test Precision: 0.7661\n",
            "Test Recall: 0.5938\n"
          ]
        }
      ],
      "source": [
        "# Test modello 16\n",
        "test_model(trained_model16, test_loader, criterion, device)"
      ]
    },
    {
      "cell_type": "code",
      "source": [
        "# Salvataggio modello 16\n",
        "save_model(trained_model16.state_dict(), 'model/modello_fia16.pth')"
      ],
      "metadata": {
        "colab": {
          "base_uri": "https://localhost:8080/"
        },
        "id": "flJHIRVxAIBD",
        "outputId": "bd8d9abb-b112-404c-9804-af957c39e4bf"
      },
      "execution_count": null,
      "outputs": [
        {
          "output_type": "stream",
          "name": "stdout",
          "text": [
            "Modello salvato come model/modello_fia16.pth\n"
          ]
        }
      ]
    }
  ],
  "metadata": {
    "accelerator": "GPU",
    "colab": {
      "gpuType": "T4",
      "provenance": []
    },
    "kernelspec": {
      "display_name": "Python 3",
      "name": "python3"
    },
    "language_info": {
      "codemirror_mode": {
        "name": "ipython",
        "version": 3
      },
      "file_extension": ".py",
      "mimetype": "text/x-python",
      "name": "python",
      "nbconvert_exporter": "python",
      "pygments_lexer": "ipython3",
      "version": "3.10.0"
    }
  },
  "nbformat": 4,
  "nbformat_minor": 0
}